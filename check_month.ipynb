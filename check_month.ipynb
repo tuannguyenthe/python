{
 "cells": [
  {
   "cell_type": "code",
   "execution_count": null,
   "metadata": {},
   "outputs": [],
   "source": [
    "###\n",
    "#Credit to: http://code.activestate.com/recipes/476197-first-last-day-of-the-month/\n",
    "#\n",
    "###\n",
    "\n",
    "import datetime\n",
    "import time\n",
    "\n",
    "def mkDateTime(dateString,strFormat=\"%Y-%m-%d\"):\n",
    "    # Expects \"YYYY-MM-DD\" string\n",
    "    # returns a datetime object\n",
    "    eSeconds = time.mktime(time.strptime(dateString,strFormat))\n",
    "    return datetime.datetime.fromtimestamp(eSeconds)\n",
    "\n",
    "def formatDate(dtDateTime,strFormat=\"%Y-%m-%d\"):\n",
    "    # format a datetime object as YYYY-MM-DD string and return\n",
    "    return dtDateTime.strftime(strFormat)\n",
    "\n",
    "def mkFirstOfMonth2(dtDateTime):\n",
    "    #what is the first day of the current month\n",
    "    ddays = int(dtDateTime.strftime(\"%d\"))-1 #days to subtract to get to the 1st\n",
    "    delta = datetime.timedelta(days= ddays)  #create a delta datetime object\n",
    "    return dtDateTime - delta                #Subtract delta and return\n",
    "\n",
    "def mkFirstOfMonth(dtDateTime):\n",
    "    #what is the first day of the current month\n",
    "    #format the year and month + 01 for the current datetime, then form it back\n",
    "    #into a datetime object\n",
    "    return mkDateTime(formatDate(dtDateTime,\"%Y-%m-01\"))\n",
    "\n",
    "def mkLastOfMonth(dtDateTime):\n",
    "    dYear = dtDateTime.strftime(\"%Y\")        #get the year\n",
    "    dMonth = str(int(dtDateTime.strftime(\"%m\"))%12+1)#get next month, watch rollover\n",
    "    dDay = \"1\"                               #first day of next month\n",
    "    nextMonth = mkDateTime(\"%s-%s-%s\"%(dYear,dMonth,dDay))#make a datetime obj for 1st of next month\n",
    "    delta = datetime.timedelta(seconds=1)    #create a delta of 1 second\n",
    "    return nextMonth - delta                 #subtract from nextMonth and return\n",
    "\n",
    "if __name__==\"__main__\":\n",
    "    for i in range(12):\n",
    "        thisMonth = (\"0%i\"%(i+1,))[-2:]\n",
    "        print(thisMonth)\n",
    "        d = mkDateTime(\"2004-%s-02\"%thisMonth)\n",
    "        print(formatDate(d))\n",
    "        print(formatDate(d,\"%Y%m%d\"))\n",
    "        print(mkFirstOfMonth(d))\n",
    "        print(mkFirstOfMonth2(d))\n",
    "        print(mkLastOfMonth(d))"
   ]
  },
  {
   "cell_type": "code",
   "execution_count": null,
   "metadata": {},
   "outputs": [],
   "source": []
  }
 ],
 "metadata": {
  "kernelspec": {
   "display_name": "Python 3",
   "language": "python",
   "name": "python3"
  },
  "language_info": {
   "codemirror_mode": {
    "name": "ipython",
    "version": 3
   },
   "file_extension": ".py",
   "mimetype": "text/x-python",
   "name": "python",
   "nbconvert_exporter": "python",
   "pygments_lexer": "ipython3",
   "version": "3.6.5"
  }
 },
 "nbformat": 4,
 "nbformat_minor": 1
}
